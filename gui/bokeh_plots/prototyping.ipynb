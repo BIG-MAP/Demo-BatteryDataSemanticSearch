{
 "cells": [
  {
   "cell_type": "code",
   "execution_count": 1,
   "metadata": {},
   "outputs": [],
   "source": [
    "import json\n",
    "import dlite\n",
    "import os\n",
    "import pandas as pd\n",
    "from bokeh_apps import InstanceApp"
   ]
  },
  {
   "cell_type": "code",
   "execution_count": 2,
   "metadata": {},
   "outputs": [],
   "source": [
    "THISDIR = os.path.abspath('')\n",
    "PATH_DATAMODELS = os.path.join(THISDIR, f'../entities/', \"BatteryArchiveTimeSeriesData.json\")\n",
    "URLS_CSV = \"https://www.batteryarchive.org/data/CALCE_CX2-16_prism_LCO_25C_0-100_0.5-0.5C_a_timeseries.csv\""
   ]
  },
  {
   "cell_type": "code",
   "execution_count": 4,
   "metadata": {},
   "outputs": [],
   "source": [
    "BatteryTimeSeriesData = dlite.Instance.from_url(f\"json://{PATH_DATAMODELS}\")"
   ]
  },
  {
   "cell_type": "code",
   "execution_count": 5,
   "metadata": {},
   "outputs": [],
   "source": [
    "def print_dlite_instance(dlite_instance):\n",
    "\n",
    "    for key, value in dlite_instance.asdict().items():\n",
    "\n",
    "        print(key)\n",
    "        if isinstance(value, str):\n",
    "            print(value, \"\\n\")\n",
    "        elif isinstance(value, dict):\n",
    "            print(list(value.keys()), \"\\n\")"
   ]
  },
  {
   "cell_type": "code",
   "execution_count": 3,
   "metadata": {},
   "outputs": [
    {
     "data": {
      "text/plain": [
       "Index(['Date_Time', 'Test_Time (s)', 'Cycle_Index', 'Current (A)',\n",
       "       'Voltage (V)', 'Charge_Capacity (Ah)', 'Discharge_Capacity (Ah)',\n",
       "       'Charge_Energy (Wh)', 'Discharge_Energy (Wh)',\n",
       "       'Environment_Temperature (C)', 'Cell_Temperature (C)'],\n",
       "      dtype='object')"
      ]
     },
     "execution_count": 3,
     "metadata": {},
     "output_type": "execute_result"
    }
   ],
   "source": [
    "df = pd.read_csv(URLS_CSV)\n",
    "df.columns"
   ]
  },
  {
   "cell_type": "code",
   "execution_count": 6,
   "metadata": {},
   "outputs": [
    {
     "data": {
      "text/plain": [
       "(820996, 11)"
      ]
     },
     "execution_count": 6,
     "metadata": {},
     "output_type": "execute_result"
    }
   ],
   "source": [
    "df.shape"
   ]
  },
  {
   "cell_type": "code",
   "execution_count": null,
   "metadata": {},
   "outputs": [
    {
     "ename": "",
     "evalue": "",
     "output_type": "error",
     "traceback": [
      "\u001b[1;31mCanceled future for execute_request message before replies were done"
     ]
    },
    {
     "ename": "",
     "evalue": "",
     "output_type": "error",
     "traceback": [
      "\u001b[1;31mThe Kernel crashed while executing code in the the current cell or a previous cell. Please review the code in the cell(s) to identify a possible cause of the failure. Click <a href='https://aka.ms/vscodeJupyterKernelCrash'>here</a> for more info. View Jupyter <a href='command:jupyter.viewOutput'>log</a> for further details."
     ]
    }
   ],
   "source": [
    "conformed_data = BatteryTimeSeriesData(dims=[10])"
   ]
  },
  {
   "cell_type": "code",
   "execution_count": 11,
   "metadata": {},
   "outputs": [
    {
     "name": "stdout",
     "output_type": "stream",
     "text": [
      "uuid\n",
      "50d2ca2f-dd3d-4c35-863c-3fd0ea36a73c \n",
      "\n",
      "meta\n",
      "http://onto-ns.com/meta/0.1/BatteryTimeSeriesData \n",
      "\n",
      "dimensions\n",
      "['n_measurements'] \n",
      "\n",
      "properties\n",
      "['battery_id', 'date_time_stamp', 'test_time', 'battery_current', 'battery_voltage', 'battery_temperature', 'battery_temperature_location', 'environment_temperature', 'environment_temperature_source'] \n",
      "\n"
     ]
    }
   ],
   "source": [
    "#Use datamodel object to create a new Dlite instance: data conformed to the datamodel\n",
    "conformed_data = BatteryTimeSeriesData(dims=[df.shape[0]])\n",
    "\n",
    "for column in df.columns\n",
    "\n",
    "#populed conformed data object\n",
    "conformed_data.battery_id = raw_data.rows*[raw_data.meta.asdict()[\"uri\"].split(\"/\")[-1]]\n",
    "conformed_data.test_time = raw_data.time\n",
    "conformed_data.battery_voltage = raw_data.voltage\n",
    "conformed_data.battery_current = raw_data.current\n",
    "conformed_data.battery_temperature = raw_data.cell_temperature\n",
    "conformed_data.environment_voltage = raw_data.environment_temperature\n",
    "\n",
    "\n",
    "print_dlite_instance(conformed_data)"
   ]
  },
  {
   "cell_type": "markdown",
   "metadata": {},
   "source": [
    "# Data conversions\n",
    "\n",
    "What type of information is needed to convert a stored file into usable data for an application?  \n",
    "\n",
    "1. Load  \n",
    "\n",
    "    1.1 where the file is  \n",
    "      \n",
    "    1.2 what is its format (json, csv, ...)  \n",
    "\n",
    "\n",
    "2. Convert  \n",
    "\n",
    "    2.1 Template of new datamodel  \n",
    "\n",
    "    2.2 Function to populate template of new datamodel  \n",
    "\n",
    "    2.3 Template of old datamodel  \n",
    "\n",
    "    2.4 Function to access data with old datamodel  \n",
    "\n",
    "    2.5 An intermediate, universally-accessible object  \n",
    "    "
   ]
  },
  {
   "cell_type": "code",
   "execution_count": 9,
   "metadata": {},
   "outputs": [],
   "source": [
    "def load_data_from_json(path_dataset:str, path_datamodel:str = \"\"):\n",
    "    \"\"\"\n",
    "    Loads a dataset in json format into memory using a datamodel as template.\n",
    "\n",
    "    Parameters:\n",
    "        path_dataset: string\n",
    "            path where the dataset is stored\n",
    "        path_datamodel_in: string\n",
    "            path where datamodel is stored\n",
    "    Returns:\n",
    "        out: object\n",
    "            object with the attributes specified by path_datamodel\n",
    "    \"\"\"\n",
    "\n",
    "    with open(path_dataset) as f:\n",
    "        data_instance = json.load(f)\n",
    "\n",
    "    return data_instance\n",
    "\n",
    "\n",
    "\n",
    "\n",
    "def convert_data(data_instance, datamodel_path: str = \"\"):\n",
    "    \"\"\"\n",
    "    Trasnform a data instance into a new format, using a datamodel as template.\n",
    "\n",
    "    Parameters:\n",
    "        data_instance: object\n",
    "            data instance to be transformed to new format\n",
    "        path_datamodel_in: string\n",
    "            path where datamodel is stored\n",
    "    Returns:\n",
    "        out: object\n",
    "            object with the attributes specified by datamodel\n",
    "    \"\"\"\n",
    "    #template of new datamodel: a dict of (col_name, array) pairs. \n",
    "    # At least one column 'id' of indexes/strings used to slice the columns with data\n",
    "    data_new_format = {} \n",
    "\n",
    "    #function accessing dataset. Made by visual inspection of the json file\n",
    "    for instance_label, instance_data in data_instance.items(): \n",
    "\n",
    "        if \"n_measurements\" not in instance_data[\"dimensions\"].keys():\n",
    "            continue\n",
    "\n",
    "        n_measurements = instance_data[\"dimensions\"][\"n_measurements\"]\n",
    "\n",
    "        if not data_new_format:\n",
    "            data_new_format.update(instance_data[\"properties\"])\n",
    "            data_new_format[\"id\"] = n_measurements*[instance_label]\n",
    "        else:\n",
    "            for key, value in instance_data[\"properties\"].items():\n",
    "                data_new_format[key].extend(value)\n",
    "            data_new_format[\"id\"].extend(n_measurements*[instance_label])\n",
    "    \n",
    "    return data_new_format"
   ]
  },
  {
   "cell_type": "markdown",
   "metadata": {},
   "source": [
    "## Bokeh self standing app\n",
    "Follow examples from the [blog post](http://justinbois.github.io/bootcamp/2021/lessons/l30_javascript_for_bokeh.html)"
   ]
  },
  {
   "cell_type": "code",
   "execution_count": 10,
   "metadata": {},
   "outputs": [
    {
     "ename": "NameError",
     "evalue": "name 'AppTimeSeries' is not defined",
     "output_type": "error",
     "traceback": [
      "\u001b[1;31m---------------------------------------------------------------------------\u001b[0m",
      "\u001b[1;31mNameError\u001b[0m                                 Traceback (most recent call last)",
      "\u001b[1;32mc:\\Users\\eibarc\\OneDrive - SINTEF\\Documents\\Project BIGMAP\\Repos\\FAIRBatteryData\\examples\\visualizations\\prototyping.ipynb Cell 15\u001b[0m in \u001b[0;36m<cell line: 3>\u001b[1;34m()\u001b[0m\n\u001b[0;32m      <a href='vscode-notebook-cell:/c%3A/Users/eibarc/OneDrive%20-%20SINTEF/Documents/Project%20BIGMAP/Repos/FAIRBatteryData/examples/visualizations/prototyping.ipynb#W4sZmlsZQ%3D%3D?line=0'>1</a>\u001b[0m data_instance \u001b[39m=\u001b[39m load_data_from_json(path_dataset\u001b[39m=\u001b[39m\u001b[39m\"\u001b[39m\u001b[39mrwth_cycledata_collection_processed.json\u001b[39m\u001b[39m\"\u001b[39m)\n\u001b[0;32m      <a href='vscode-notebook-cell:/c%3A/Users/eibarc/OneDrive%20-%20SINTEF/Documents/Project%20BIGMAP/Repos/FAIRBatteryData/examples/visualizations/prototyping.ipynb#W4sZmlsZQ%3D%3D?line=1'>2</a>\u001b[0m data_new_format \u001b[39m=\u001b[39m convert_data(data_instance \u001b[39m=\u001b[39m data_instance)\n\u001b[1;32m----> <a href='vscode-notebook-cell:/c%3A/Users/eibarc/OneDrive%20-%20SINTEF/Documents/Project%20BIGMAP/Repos/FAIRBatteryData/examples/visualizations/prototyping.ipynb#W4sZmlsZQ%3D%3D?line=2'>3</a>\u001b[0m app \u001b[39m=\u001b[39m AppTimeSeries(data_new_format)\n\u001b[0;32m      <a href='vscode-notebook-cell:/c%3A/Users/eibarc/OneDrive%20-%20SINTEF/Documents/Project%20BIGMAP/Repos/FAIRBatteryData/examples/visualizations/prototyping.ipynb#W4sZmlsZQ%3D%3D?line=3'>4</a>\u001b[0m app\u001b[39m.\u001b[39mrender_app()\n",
      "\u001b[1;31mNameError\u001b[0m: name 'AppTimeSeries' is not defined"
     ]
    }
   ],
   "source": [
    "data_instance = load_data_from_json(path_dataset=\"rwth_cycledata_collection_processed.json\")\n",
    "data_new_format = convert_data(data_instance = data_instance)\n",
    "app = AppTimeSeries(data_new_format)\n",
    "app.render_app()\n",
    "# app.save_app(\"app_rwth_cycledata_collection_processed.html\")"
   ]
  },
  {
   "cell_type": "markdown",
   "metadata": {},
   "source": [
    "# Load entities into python objects\n",
    "### Using named tuple"
   ]
  },
  {
   "cell_type": "code",
   "execution_count": null,
   "metadata": {},
   "outputs": [],
   "source": [
    "import dlite\n",
    "from collections import namedtuple\n",
    "import json"
   ]
  },
  {
   "cell_type": "code",
   "execution_count": null,
   "metadata": {},
   "outputs": [],
   "source": [
    "PATH_ENTITY = \"./BatteryCellMetadata.json\""
   ]
  },
  {
   "cell_type": "code",
   "execution_count": null,
   "metadata": {},
   "outputs": [],
   "source": [
    "def custom_json_decoder(json_dict):\n",
    "    return namedtuple('X', json_dict.keys())(*json_dict.values())\n",
    "\n",
    "with open(PATH_ENTITY) as f:\n",
    "    # Parse JSON into an object with attributes corresponding to dict keys.\n",
    "    # json_obj = json.load(f, object_hook=custom_json_decoder)\n",
    "    json_dict = json.load(f)\n",
    "    json_obj = namedtuple('X', json_dict.keys())(*json_dict.values())\n"
   ]
  },
  {
   "cell_type": "code",
   "execution_count": null,
   "metadata": {},
   "outputs": [
    {
     "data": {
      "text/plain": [
       "'BatteryCellMetadata'"
      ]
     },
     "execution_count": 13,
     "metadata": {},
     "output_type": "execute_result"
    }
   ],
   "source": [
    "json_obj.name"
   ]
  }
 ],
 "metadata": {
  "kernelspec": {
   "display_name": "Python 3.10.6 ('venv-dlite')",
   "language": "python",
   "name": "python3"
  },
  "language_info": {
   "codemirror_mode": {
    "name": "ipython",
    "version": 3
   },
   "file_extension": ".py",
   "mimetype": "text/x-python",
   "name": "python",
   "nbconvert_exporter": "python",
   "pygments_lexer": "ipython3",
   "version": "3.10.6"
  },
  "orig_nbformat": 4,
  "vscode": {
   "interpreter": {
    "hash": "7fcdda30380ed00bac76e304afec6e9eb10bde46af81d74e6caf34476c31d8f5"
   }
  }
 },
 "nbformat": 4,
 "nbformat_minor": 2
}
